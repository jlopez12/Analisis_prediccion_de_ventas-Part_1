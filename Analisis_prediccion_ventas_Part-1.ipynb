{
  "nbformat": 4,
  "nbformat_minor": 0,
  "metadata": {
    "colab": {
      "provenance": [],
      "authorship_tag": "ABX9TyPDHVbxpc9YLJ3IupAjWVJG",
      "include_colab_link": true
    },
    "kernelspec": {
      "name": "python3",
      "display_name": "Python 3"
    },
    "language_info": {
      "name": "python"
    }
  },
  "cells": [
    {
      "cell_type": "markdown",
      "metadata": {
        "id": "view-in-github",
        "colab_type": "text"
      },
      "source": [
        "<a href=\"https://colab.research.google.com/github/jlopez12/Analisis_prediccion_de_ventas-Part_1/blob/development/Analisis_prediccion_ventas_Part-1.ipynb\" target=\"_parent\"><img src=\"https://colab.research.google.com/assets/colab-badge.svg\" alt=\"Open In Colab\"/></a>"
      ]
    },
    {
      "cell_type": "markdown",
      "source": [
        "#Conectar a Drive y leer documento"
      ],
      "metadata": {
        "id": "PofdK_r4C6e1"
      }
    },
    {
      "cell_type": "code",
      "execution_count": 1,
      "metadata": {
        "colab": {
          "base_uri": "https://localhost:8080/"
        },
        "outputId": "6699b726-b06e-4168-bf6b-e95a3e7ea438",
        "id": "YcP9Rs2TnhQe"
      },
      "outputs": [
        {
          "output_type": "stream",
          "name": "stdout",
          "text": [
            "Mounted at /content/drive\n"
          ]
        }
      ],
      "source": [
        "# Conectar Colab con drive.\n",
        "from google.colab import drive\n",
        "drive.mount('/content/drive')"
      ]
    },
    {
      "cell_type": "code",
      "source": [
        "# Importa libreria.\n",
        "import pandas as pd"
      ],
      "metadata": {
        "id": "uHM4W3Fcmw0C"
      },
      "execution_count": 2,
      "outputs": []
    },
    {
      "cell_type": "code",
      "source": [
        "# Establecer conexion al documento\n",
        "path = \"/content/drive/MyDrive/Colab Notebooks/DB/retail_sales_dataset.csv\"\n",
        "df = pd.read_csv(path)"
      ],
      "metadata": {
        "id": "Sy-8YY2dm0JM"
      },
      "execution_count": 3,
      "outputs": []
    },
    {
      "cell_type": "markdown",
      "source": [
        "#Primera vista al Data Frame"
      ],
      "metadata": {
        "id": "an39QjzgDBNg"
      }
    },
    {
      "cell_type": "code",
      "source": [
        "# Se revisan las columnas y tipos de datos.\n",
        "df.info()"
      ],
      "metadata": {
        "id": "z8Dgtoy1n7rg",
        "outputId": "a34346c5-a5ef-4960-a8ca-584a2e0c7902",
        "colab": {
          "base_uri": "https://localhost:8080/"
        }
      },
      "execution_count": 4,
      "outputs": [
        {
          "output_type": "stream",
          "name": "stdout",
          "text": [
            "<class 'pandas.core.frame.DataFrame'>\n",
            "RangeIndex: 1000 entries, 0 to 999\n",
            "Data columns (total 9 columns):\n",
            " #   Column            Non-Null Count  Dtype \n",
            "---  ------            --------------  ----- \n",
            " 0   Transaction ID    1000 non-null   int64 \n",
            " 1   Date              1000 non-null   object\n",
            " 2   Customer ID       1000 non-null   object\n",
            " 3   Gender            1000 non-null   object\n",
            " 4   Age               1000 non-null   int64 \n",
            " 5   Product Category  1000 non-null   object\n",
            " 6   Quantity          1000 non-null   int64 \n",
            " 7   Price per Unit    1000 non-null   int64 \n",
            " 8   Total Amount      1000 non-null   int64 \n",
            "dtypes: int64(5), object(4)\n",
            "memory usage: 70.4+ KB\n"
          ]
        }
      ]
    },
    {
      "cell_type": "markdown",
      "source": [
        "#Limpieza de columnas"
      ],
      "metadata": {
        "id": "VPK8Xok2oPjf"
      }
    },
    {
      "cell_type": "code",
      "source": [
        "# Pasa todas las columnas a minusculas.\n",
        "df.columns = df.columns.str.lower()"
      ],
      "metadata": {
        "id": "pGJMvLqToB75"
      },
      "execution_count": 5,
      "outputs": []
    },
    {
      "cell_type": "code",
      "source": [
        "# Diccionario de caracteres que quiero reemplazar en los nombres de columnas.\n",
        "# Aunque no se visualizan tildes, parentesis o ° se mantiene en el diccionario.\n",
        "reemplazar = {\n",
        "    \"á\": \"a\", \"é\": \"e\", \"í\": \"i\", \"ó\": \"o\", \"ú\": \"u\",\n",
        "    \" \":\"_\",\"(\":\"\",\")\":\"\",\"°\":\"\",\".\":\"\"\n",
        "    }"
      ],
      "metadata": {
        "id": "RhJX6lOpoVbT"
      },
      "execution_count": 6,
      "outputs": []
    },
    {
      "cell_type": "code",
      "source": [
        "# Se recorre el diccionario de caracteres a reemplazar y se aplica en las columnas\n",
        "for actual, nuevo in reemplazar.items():\n",
        "  df.columns = df.columns.str.replace(actual,nuevo)"
      ],
      "metadata": {
        "id": "zqjY3rTlo0L8"
      },
      "execution_count": 7,
      "outputs": []
    },
    {
      "cell_type": "code",
      "source": [
        "# Se verifican los cambios.\n",
        "df.info()"
      ],
      "metadata": {
        "id": "r0RmMMKPpuho",
        "outputId": "b446ff5e-cf01-4e7d-8d9b-f2d4b8a3c19a",
        "colab": {
          "base_uri": "https://localhost:8080/"
        }
      },
      "execution_count": 8,
      "outputs": [
        {
          "output_type": "stream",
          "name": "stdout",
          "text": [
            "<class 'pandas.core.frame.DataFrame'>\n",
            "RangeIndex: 1000 entries, 0 to 999\n",
            "Data columns (total 9 columns):\n",
            " #   Column            Non-Null Count  Dtype \n",
            "---  ------            --------------  ----- \n",
            " 0   transaction_id    1000 non-null   int64 \n",
            " 1   date              1000 non-null   object\n",
            " 2   customer_id       1000 non-null   object\n",
            " 3   gender            1000 non-null   object\n",
            " 4   age               1000 non-null   int64 \n",
            " 5   product_category  1000 non-null   object\n",
            " 6   quantity          1000 non-null   int64 \n",
            " 7   price_per_unit    1000 non-null   int64 \n",
            " 8   total_amount      1000 non-null   int64 \n",
            "dtypes: int64(5), object(4)\n",
            "memory usage: 70.4+ KB\n"
          ]
        }
      ]
    },
    {
      "cell_type": "markdown",
      "source": [
        "#Revisión de datos\n",
        "En la informacion general observado no se identifican valores null, por lo que se procede a utilizar la data, sin tener que hacer ajustes a información faltante."
      ],
      "metadata": {
        "id": "d99qApAsp1v9"
      }
    },
    {
      "cell_type": "code",
      "source": [
        "# Muestra las filas con algun valor null\n",
        "df[df.isnull().any(axis=1)]\n"
      ],
      "metadata": {
        "id": "trNgWnYAqDnk",
        "outputId": "2a7ce157-07b7-4170-9433-90ae35439700",
        "colab": {
          "base_uri": "https://localhost:8080/",
          "height": 53
        }
      },
      "execution_count": 12,
      "outputs": [
        {
          "output_type": "execute_result",
          "data": {
            "text/plain": [
              "Empty DataFrame\n",
              "Columns: [transaction_id, date, customer_id, gender, age, product_category, quantity, price_per_unit, total_amount]\n",
              "Index: []"
            ],
            "text/html": [
              "\n",
              "  <div id=\"df-a05e3ac9-18a6-4ea8-88dd-721c7bd66aeb\" class=\"colab-df-container\">\n",
              "    <div>\n",
              "<style scoped>\n",
              "    .dataframe tbody tr th:only-of-type {\n",
              "        vertical-align: middle;\n",
              "    }\n",
              "\n",
              "    .dataframe tbody tr th {\n",
              "        vertical-align: top;\n",
              "    }\n",
              "\n",
              "    .dataframe thead th {\n",
              "        text-align: right;\n",
              "    }\n",
              "</style>\n",
              "<table border=\"1\" class=\"dataframe\">\n",
              "  <thead>\n",
              "    <tr style=\"text-align: right;\">\n",
              "      <th></th>\n",
              "      <th>transaction_id</th>\n",
              "      <th>date</th>\n",
              "      <th>customer_id</th>\n",
              "      <th>gender</th>\n",
              "      <th>age</th>\n",
              "      <th>product_category</th>\n",
              "      <th>quantity</th>\n",
              "      <th>price_per_unit</th>\n",
              "      <th>total_amount</th>\n",
              "    </tr>\n",
              "  </thead>\n",
              "  <tbody>\n",
              "  </tbody>\n",
              "</table>\n",
              "</div>\n",
              "    <div class=\"colab-df-buttons\">\n",
              "\n",
              "  <div class=\"colab-df-container\">\n",
              "    <button class=\"colab-df-convert\" onclick=\"convertToInteractive('df-a05e3ac9-18a6-4ea8-88dd-721c7bd66aeb')\"\n",
              "            title=\"Convert this dataframe to an interactive table.\"\n",
              "            style=\"display:none;\">\n",
              "\n",
              "  <svg xmlns=\"http://www.w3.org/2000/svg\" height=\"24px\" viewBox=\"0 -960 960 960\">\n",
              "    <path d=\"M120-120v-720h720v720H120Zm60-500h600v-160H180v160Zm220 220h160v-160H400v160Zm0 220h160v-160H400v160ZM180-400h160v-160H180v160Zm440 0h160v-160H620v160ZM180-180h160v-160H180v160Zm440 0h160v-160H620v160Z\"/>\n",
              "  </svg>\n",
              "    </button>\n",
              "\n",
              "  <style>\n",
              "    .colab-df-container {\n",
              "      display:flex;\n",
              "      gap: 12px;\n",
              "    }\n",
              "\n",
              "    .colab-df-convert {\n",
              "      background-color: #E8F0FE;\n",
              "      border: none;\n",
              "      border-radius: 50%;\n",
              "      cursor: pointer;\n",
              "      display: none;\n",
              "      fill: #1967D2;\n",
              "      height: 32px;\n",
              "      padding: 0 0 0 0;\n",
              "      width: 32px;\n",
              "    }\n",
              "\n",
              "    .colab-df-convert:hover {\n",
              "      background-color: #E2EBFA;\n",
              "      box-shadow: 0px 1px 2px rgba(60, 64, 67, 0.3), 0px 1px 3px 1px rgba(60, 64, 67, 0.15);\n",
              "      fill: #174EA6;\n",
              "    }\n",
              "\n",
              "    .colab-df-buttons div {\n",
              "      margin-bottom: 4px;\n",
              "    }\n",
              "\n",
              "    [theme=dark] .colab-df-convert {\n",
              "      background-color: #3B4455;\n",
              "      fill: #D2E3FC;\n",
              "    }\n",
              "\n",
              "    [theme=dark] .colab-df-convert:hover {\n",
              "      background-color: #434B5C;\n",
              "      box-shadow: 0px 1px 3px 1px rgba(0, 0, 0, 0.15);\n",
              "      filter: drop-shadow(0px 1px 2px rgba(0, 0, 0, 0.3));\n",
              "      fill: #FFFFFF;\n",
              "    }\n",
              "  </style>\n",
              "\n",
              "    <script>\n",
              "      const buttonEl =\n",
              "        document.querySelector('#df-a05e3ac9-18a6-4ea8-88dd-721c7bd66aeb button.colab-df-convert');\n",
              "      buttonEl.style.display =\n",
              "        google.colab.kernel.accessAllowed ? 'block' : 'none';\n",
              "\n",
              "      async function convertToInteractive(key) {\n",
              "        const element = document.querySelector('#df-a05e3ac9-18a6-4ea8-88dd-721c7bd66aeb');\n",
              "        const dataTable =\n",
              "          await google.colab.kernel.invokeFunction('convertToInteractive',\n",
              "                                                    [key], {});\n",
              "        if (!dataTable) return;\n",
              "\n",
              "        const docLinkHtml = 'Like what you see? Visit the ' +\n",
              "          '<a target=\"_blank\" href=https://colab.research.google.com/notebooks/data_table.ipynb>data table notebook</a>'\n",
              "          + ' to learn more about interactive tables.';\n",
              "        element.innerHTML = '';\n",
              "        dataTable['output_type'] = 'display_data';\n",
              "        await google.colab.output.renderOutput(dataTable, element);\n",
              "        const docLink = document.createElement('div');\n",
              "        docLink.innerHTML = docLinkHtml;\n",
              "        element.appendChild(docLink);\n",
              "      }\n",
              "    </script>\n",
              "  </div>\n",
              "\n",
              "\n",
              "    </div>\n",
              "  </div>\n"
            ],
            "application/vnd.google.colaboratory.intrinsic+json": {
              "type": "dataframe",
              "repr_error": "Out of range float values are not JSON compliant: nan"
            }
          },
          "metadata": {},
          "execution_count": 12
        }
      ]
    },
    {
      "cell_type": "markdown",
      "source": [
        "#Exploración de datos\n"
      ],
      "metadata": {
        "id": "XENJ_bCLqxFJ"
      }
    },
    {
      "cell_type": "code",
      "source": [
        "# Calcula el total de ventas por categoría de producto.\n",
        "total_venta_categoria = df.groupby(\"product_category\")[\"total_amount\"].sum()\n",
        "print(f\"Total de Ventas por Categoria:\\n\\n{total_venta_categoria}\")"
      ],
      "metadata": {
        "id": "Fpve4xRFqgu2",
        "outputId": "5efe1953-933f-4665-d850-adf90302beaf",
        "colab": {
          "base_uri": "https://localhost:8080/"
        }
      },
      "execution_count": 15,
      "outputs": [
        {
          "output_type": "stream",
          "name": "stdout",
          "text": [
            "Total de Ventas por Categoria:\n",
            "\n",
            "product_category\n",
            "Beauty         143515\n",
            "Clothing       155580\n",
            "Electronics    156905\n",
            "Name: total_amount, dtype: int64\n"
          ]
        }
      ]
    },
    {
      "cell_type": "code",
      "source": [
        "# Calcula el promedio de ventas diarias por categoría de producto.\n",
        "promedio_ventas_diarias_c = df.groupby([\"product_category\",\"date\"])[\"total_amount\"].mean()\n",
        "print(f\"Promedio de Ventas diarias por Categoria:\\n\\n{promedio_ventas_diarias_c}\")"
      ],
      "metadata": {
        "id": "Abty-8nxrUuY",
        "outputId": "94de6947-cbc6-43c5-9eff-5688ee04f2cd",
        "colab": {
          "base_uri": "https://localhost:8080/"
        }
      },
      "execution_count": 18,
      "outputs": [
        {
          "output_type": "stream",
          "name": "stdout",
          "text": [
            "Promedio de Ventas diarias por Categoria:\n",
            "\n",
            "product_category  date      \n",
            "Beauty            2023-01-01    1500.0\n",
            "                  2023-01-02      25.0\n",
            "                  2023-01-03     600.0\n",
            "                  2023-01-04     545.0\n",
            "                  2023-01-05      50.0\n",
            "                                 ...  \n",
            "Electronics       2023-12-27     600.0\n",
            "                  2023-12-28      37.5\n",
            "                  2023-12-29     100.0\n",
            "                  2023-12-31      50.0\n",
            "                  2024-01-01      30.0\n",
            "Name: total_amount, Length: 655, dtype: float64\n"
          ]
        }
      ]
    },
    {
      "cell_type": "code",
      "source": [
        "# Identifica las categorías de productos con mayores y menores ventas.\n",
        "# agrupo las ventas por categoria de producto y sumo las veces en que se han vendido.\n",
        "categoria_por_cantidad = df.groupby(\"product_category\")[\"quantity\"].sum()\n",
        "\n",
        "# Imprime los datos isuando idxMax() para obtener el indice del valor mas alto y max() para obtener el valor mas alto\n",
        "print(f\"Categoria con mayor venta:\\n\\n{categoria_por_cantidad.idxmax()}, vendido {max(categoria_por_cantidad)} veces \\n\\n\")\n",
        "# Imprime los datos isuando idxMin() para obtener el indice del valor mas bajo y min() para obtener el valor mas bajo\n",
        "print(f\"Categoria con menor venta:\\n\\n{categoria_por_cantidad.idxmin()}, vendido {min(categoria_por_cantidad)} veces\")"
      ],
      "metadata": {
        "id": "Wq93YWW6sMaf",
        "outputId": "9e4a9244-66b8-41dc-cf0d-319b9ab028f1",
        "colab": {
          "base_uri": "https://localhost:8080/"
        }
      },
      "execution_count": 29,
      "outputs": [
        {
          "output_type": "stream",
          "name": "stdout",
          "text": [
            "Categoria con mayor venta:\n",
            "\n",
            "Clothing, vendido 894 veces \n",
            "\n",
            "\n",
            "Categoria con menor venta:\n",
            "\n",
            "Beauty, vendido 771 veces\n"
          ]
        }
      ]
    },
    {
      "cell_type": "markdown",
      "source": [
        "#Manipulación de datos"
      ],
      "metadata": {
        "id": "c3u8AOlrx-5e"
      }
    },
    {
      "cell_type": "code",
      "source": [
        "# Ver los tipos de categorias.\n",
        "df[\"product_category\"].value_counts()"
      ],
      "metadata": {
        "id": "EKD2sx6jyM71",
        "outputId": "a3a4a1e5-8a71-4750-ec6f-91c23a08c757",
        "colab": {
          "base_uri": "https://localhost:8080/",
          "height": 210
        }
      },
      "execution_count": 30,
      "outputs": [
        {
          "output_type": "execute_result",
          "data": {
            "text/plain": [
              "product_category\n",
              "Clothing       351\n",
              "Electronics    342\n",
              "Beauty         307\n",
              "Name: count, dtype: int64"
            ],
            "text/html": [
              "<div>\n",
              "<style scoped>\n",
              "    .dataframe tbody tr th:only-of-type {\n",
              "        vertical-align: middle;\n",
              "    }\n",
              "\n",
              "    .dataframe tbody tr th {\n",
              "        vertical-align: top;\n",
              "    }\n",
              "\n",
              "    .dataframe thead th {\n",
              "        text-align: right;\n",
              "    }\n",
              "</style>\n",
              "<table border=\"1\" class=\"dataframe\">\n",
              "  <thead>\n",
              "    <tr style=\"text-align: right;\">\n",
              "      <th></th>\n",
              "      <th>count</th>\n",
              "    </tr>\n",
              "    <tr>\n",
              "      <th>product_category</th>\n",
              "      <th></th>\n",
              "    </tr>\n",
              "  </thead>\n",
              "  <tbody>\n",
              "    <tr>\n",
              "      <th>Clothing</th>\n",
              "      <td>351</td>\n",
              "    </tr>\n",
              "    <tr>\n",
              "      <th>Electronics</th>\n",
              "      <td>342</td>\n",
              "    </tr>\n",
              "    <tr>\n",
              "      <th>Beauty</th>\n",
              "      <td>307</td>\n",
              "    </tr>\n",
              "  </tbody>\n",
              "</table>\n",
              "</div><br><label><b>dtype:</b> int64</label>"
            ]
          },
          "metadata": {},
          "execution_count": 30
        }
      ]
    },
    {
      "cell_type": "code",
      "source": [
        "# Filtra los datos para mostrar solo las ventas de una categoría de producto específica.\n",
        "# Filtro para obtener solo categoria Electronics\n",
        "fltr = df[\"product_category\"] == \"Electronics\"\n",
        "datos_filtrados = df[fltr]\n",
        "print(f\"Vemtas de Electronics:\\n\\n {datos_filtrados}\")"
      ],
      "metadata": {
        "id": "e-whAdyOwSv-",
        "outputId": "f4d011d7-4bf3-4e55-d0a1-0991b1c07a9d",
        "colab": {
          "base_uri": "https://localhost:8080/"
        }
      },
      "execution_count": 31,
      "outputs": [
        {
          "output_type": "stream",
          "name": "stdout",
          "text": [
            "Vemtas de Electronics:\n",
            "\n",
            "      transaction_id        date customer_id  gender  age product_category  \\\n",
            "2                 3  2023-01-13     CUST003    Male   50      Electronics   \n",
            "7                 8  2023-02-22     CUST008    Male   30      Electronics   \n",
            "8                 9  2023-12-13     CUST009    Male   63      Electronics   \n",
            "12               13  2023-08-05     CUST013    Male   22      Electronics   \n",
            "14               15  2023-01-16     CUST015  Female   42      Electronics   \n",
            "..              ...         ...         ...     ...  ...              ...   \n",
            "988             989  2023-12-28     CUST989  Female   44      Electronics   \n",
            "991             992  2023-08-21     CUST992  Female   57      Electronics   \n",
            "992             993  2023-02-06     CUST993  Female   48      Electronics   \n",
            "998             999  2023-12-05     CUST999  Female   36      Electronics   \n",
            "999            1000  2023-04-12    CUST1000    Male   47      Electronics   \n",
            "\n",
            "     quantity  price_per_unit  total_amount  \n",
            "2           1              30            30  \n",
            "7           4              25           100  \n",
            "8           2             300           600  \n",
            "12          3             500          1500  \n",
            "14          4             500          2000  \n",
            "..        ...             ...           ...  \n",
            "988         1              25            25  \n",
            "991         2              30            60  \n",
            "992         3              50           150  \n",
            "998         3              50           150  \n",
            "999         4              30           120  \n",
            "\n",
            "[342 rows x 9 columns]\n"
          ]
        }
      ]
    },
    {
      "cell_type": "code",
      "source": [
        "# Realiza operaciones de suma, resta, multiplicación y división en los datos para obtener estadísticas adicionales.\n",
        "estadisticas_adicionales = df.groupby([\"product_category\"]).agg({\"total_amount\": [\"mean\",\"sum\",\"min\",\"max\",\"std\"]})\n",
        "print(f\" Promedio, suma, minimo, maximo y desviacion de Total de ventas por categoria:\\n\\n{estadisticas_adicionales}\")\n",
        "\n",
        "# Verificacion de quienes compran mas categoria Clothing.\n",
        "fltr_m = (df[\"gender\"] == \"Male\") & (df[\"product_category\"] ==\"Clothing\")\n",
        "fltr_f = (df[\"gender\"] == \"Female\") & (df[\"product_category\"] ==\"Clothing\")\n",
        "\n",
        "# Cuenta cuantas transacciones hay para los filtros aplicados.\n",
        "compras_m = df[fltr_m].groupby(\"product_category\")[\"transaction_id\"].count()\n",
        "compras_f = df[fltr_f].groupby(\"product_category\")[\"transaction_id\"].count()\n",
        "\n",
        "# Valida cual es el dato mayor para sacar la diferencia.\n",
        "if compras_m.values[0] > compras_f.values[0]:\n",
        "  diferencia = compras_m.values[0] - compras_f.values[0]\n",
        "  print(f\"Los Hombres hacen mas compras de categoria Clothing, tienen {diferencia} compras mas que las Mujeres\")\n",
        "else:\n",
        "  diferencia = compras_f.values[0] - compras_m.values[0]\n",
        "  print(f\"Las Mujeres hacen mas compras de categoria Clothing, tienen {diferencia} compras mas que los Hombres\")\n"
      ],
      "metadata": {
        "id": "BEZd0zqeyqXf",
        "outputId": "0cec4177-734d-4485-a56d-0ca0ca4e7ee3",
        "colab": {
          "base_uri": "https://localhost:8080/"
        }
      },
      "execution_count": 67,
      "outputs": [
        {
          "output_type": "stream",
          "name": "stdout",
          "text": [
            " Promedio, suma, minimo, maximo y desviacion de Total de ventas por categoria:\n",
            "\n",
            "                 total_amount                              \n",
            "                         mean     sum min   max         std\n",
            "product_category                                           \n",
            "Beauty             467.475570  143515  25  2000  563.612788\n",
            "Clothing           443.247863  155580  25  2000  550.695917\n",
            "Electronics        458.786550  156905  25  2000  567.540150\n",
            "Los Hombres hacen mas compras de categoria Clothing, tienen 3 compras mas que las Mujeres\n"
          ]
        }
      ]
    },
    {
      "cell_type": "code",
      "source": [],
      "metadata": {
        "id": "PoPXA3Jp4RVO"
      },
      "execution_count": null,
      "outputs": []
    }
  ]
}